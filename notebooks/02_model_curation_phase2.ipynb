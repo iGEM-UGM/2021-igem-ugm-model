{
 "cells": [
  {
   "cell_type": "code",
   "execution_count": 1,
   "metadata": {
    "id": "2fGuTvNeOmQo"
   },
   "outputs": [],
   "source": [
    "from cameo import load_model\n",
    "from cameo import fba\n",
    "\n",
    "import escher\n",
    "from escher import Builder\n",
    "\n",
    "import cobra\n",
    "\n",
    "import pandas as pd\n",
    "import json"
   ]
  },
  {
   "cell_type": "code",
   "execution_count": 2,
   "metadata": {},
   "outputs": [
    {
     "data": {
      "text/html": [
       "\n",
       "        <table>\n",
       "            <tr>\n",
       "                <td><strong>Name</strong></td>\n",
       "                <td>M_iDB858</td>\n",
       "            </tr><tr>\n",
       "                <td><strong>Memory address</strong></td>\n",
       "                <td>0x07fc6987f7f40</td>\n",
       "            </tr><tr>\n",
       "                <td><strong>Number of metabolites</strong></td>\n",
       "                <td>1003</td>\n",
       "            </tr><tr>\n",
       "                <td><strong>Number of reactions</strong></td>\n",
       "                <td>1330</td>\n",
       "            </tr><tr>\n",
       "                <td><strong>Number of groups</strong></td>\n",
       "                <td>84</td>\n",
       "            </tr><tr>\n",
       "                <td><strong>Objective expression</strong></td>\n",
       "                <td>1.0*biomass1.12 - 1.0*biomass1.12_reverse_e00c6</td>\n",
       "            </tr><tr>\n",
       "                <td><strong>Compartments</strong></td>\n",
       "                <td>Cytoplasm</td>\n",
       "            </tr>\n",
       "          </table>"
      ],
      "text/plain": [
       "<Model M_iDB858 at 0x7fc6987f7f40>"
      ]
     },
     "execution_count": 2,
     "metadata": {},
     "output_type": "execute_result"
    }
   ],
   "source": [
    "# load Chromobacterium model\n",
    "model = load_model('../results/iDB858_curated_phase1.xml')\n",
    "model"
   ]
  },
  {
   "cell_type": "code",
   "execution_count": 3,
   "metadata": {},
   "outputs": [],
   "source": [
    "# load json map\n",
    "with open (\"../results/edited_map_reaction_curated_phase1.json\", \"r\") as f:\n",
    "    data = json.loads(f.read())"
   ]
  },
  {
   "cell_type": "code",
   "execution_count": 4,
   "metadata": {},
   "outputs": [
    {
     "data": {
      "text/html": [
       "<div>\n",
       "<style scoped>\n",
       "    .dataframe tbody tr th:only-of-type {\n",
       "        vertical-align: middle;\n",
       "    }\n",
       "\n",
       "    .dataframe tbody tr th {\n",
       "        vertical-align: top;\n",
       "    }\n",
       "\n",
       "    .dataframe thead th {\n",
       "        text-align: right;\n",
       "    }\n",
       "</style>\n",
       "<table border=\"1\" class=\"dataframe\">\n",
       "  <thead>\n",
       "    <tr style=\"text-align: right;\">\n",
       "      <th></th>\n",
       "      <th>name</th>\n",
       "      <th>name (in model)</th>\n",
       "      <th>bigg_id</th>\n",
       "      <th>bigg_id (in model)</th>\n",
       "      <th>gene_reaction_rule</th>\n",
       "      <th>genes</th>\n",
       "      <th>metabolites</th>\n",
       "      <th>metabolites (in model)</th>\n",
       "    </tr>\n",
       "  </thead>\n",
       "  <tbody>\n",
       "    <tr>\n",
       "      <th>0</th>\n",
       "      <td>Phosphoglycerate kinase</td>\n",
       "      <td>ATP 3-phospho-D-glycerate 1-phosphotransferase</td>\n",
       "      <td>PGK</td>\n",
       "      <td>rxn01100_c</td>\n",
       "      <td>b2926</td>\n",
       "      <td>[{'bigg_id': 'b2926', 'name': 'pgk'}]</td>\n",
       "      <td>[{'coefficient': -1, 'bigg_id': '3pg_c'}, {'co...</td>\n",
       "      <td>[{'coefficient': -1.0, 'bigg_id': 'h_c'}, {'co...</td>\n",
       "    </tr>\n",
       "    <tr>\n",
       "      <th>3</th>\n",
       "      <td>Fructose-bisphosphatase</td>\n",
       "      <td>D-Fructose-1 6-bisphosphate 1-phosphohydrolase</td>\n",
       "      <td>FBP</td>\n",
       "      <td>rxn00549_c</td>\n",
       "      <td>b3925 or b4232</td>\n",
       "      <td>[{'bigg_id': 'b4232', 'name': 'fbp'}, {'bigg_i...</td>\n",
       "      <td>[{'coefficient': -1, 'bigg_id': 'fdp_c'}, {'co...</td>\n",
       "      <td>[{'coefficient': -1.0, 'bigg_id': 'h2o_c'}, {'...</td>\n",
       "    </tr>\n",
       "  </tbody>\n",
       "</table>\n",
       "</div>"
      ],
      "text/plain": [
       "                      name                                 name (in model)  \\\n",
       "0  Phosphoglycerate kinase  ATP 3-phospho-D-glycerate 1-phosphotransferase   \n",
       "3  Fructose-bisphosphatase  D-Fructose-1 6-bisphosphate 1-phosphohydrolase   \n",
       "\n",
       "  bigg_id bigg_id (in model) gene_reaction_rule  \\\n",
       "0     PGK         rxn01100_c              b2926   \n",
       "3     FBP         rxn00549_c     b3925 or b4232   \n",
       "\n",
       "                                               genes  \\\n",
       "0              [{'bigg_id': 'b2926', 'name': 'pgk'}]   \n",
       "3  [{'bigg_id': 'b4232', 'name': 'fbp'}, {'bigg_i...   \n",
       "\n",
       "                                         metabolites  \\\n",
       "0  [{'coefficient': -1, 'bigg_id': '3pg_c'}, {'co...   \n",
       "3  [{'coefficient': -1, 'bigg_id': 'fdp_c'}, {'co...   \n",
       "\n",
       "                              metabolites (in model)  \n",
       "0  [{'coefficient': -1.0, 'bigg_id': 'h_c'}, {'co...  \n",
       "3  [{'coefficient': -1.0, 'bigg_id': 'h2o_c'}, {'...  "
      ]
     },
     "execution_count": 4,
     "metadata": {},
     "output_type": "execute_result"
    }
   ],
   "source": [
    "# load reaction mapping\n",
    "df_matching_reactions = pd.read_csv(\"../tables/reaction_map.csv\", index_col=0)\n",
    "mask = df_matching_reactions[\"name (in model)\"].notna() # drop null values\n",
    "df_matching_reactions = df_matching_reactions[mask]\n",
    "df_matching_reactions.head(2)"
   ]
  },
  {
   "cell_type": "code",
   "execution_count": 5,
   "metadata": {},
   "outputs": [
    {
     "data": {
      "text/plain": [
       "array(['PGK', 'FBP', 'PYK', 'PFK', 'PTAr', 'ME1', 'ACKr', 'FUMt2_2',\n",
       "       'SUCCt3', 'GAPD', 'SUCCt2_2', 'GLUDy', 'FORti', 'FRUpts2', 'SUCDi',\n",
       "       'D_LACt2', 'BIOMASS_Ecoli_core_w_GAM', 'DDPA', 'DHQS', 'SHKK',\n",
       "       'PSCVT', 'CHORS', 'PHEt2r', 'rxnvio6', 'DF_dvio', 'rxnvio9',\n",
       "       'DF_vio'], dtype=object)"
      ]
     },
     "execution_count": 5,
     "metadata": {},
     "output_type": "execute_result"
    }
   ],
   "source": [
    "df_matching_reactions.bigg_id.values"
   ]
  },
  {
   "cell_type": "code",
   "execution_count": 6,
   "metadata": {},
   "outputs": [],
   "source": [
    "map_nodes = {}\n",
    "for n in data[1][\"reactions\"]:   \n",
    "    query = data[1][\"reactions\"][n][\"bigg_id\"]\n",
    "    if query in df_matching_reactions.bigg_id.values:\n",
    "        map_nodes[query] = n"
   ]
  },
  {
   "cell_type": "code",
   "execution_count": 7,
   "metadata": {},
   "outputs": [
    {
     "name": "stdout",
     "output_type": "stream",
     "text": [
      "rxn01100_c --> PGK\n",
      "rxn00549_c --> FBP\n",
      "rxn00148_c --> PYK\n",
      "rxn00545_c --> PFK\n",
      "rxn00173_c --> PTAr\n",
      "rDB00157_c --> ME1\n",
      "rxn00225_c --> ACKr\n",
      "rxn10152_c --> FUMt2_2\n",
      "rxn05654_c --> SUCCt3\n",
      "rxn00781_c --> GAPD\n",
      "rxn10154_c --> SUCCt2_2\n",
      "GLUSy --> GLUDy\n",
      "FORt2 --> FORti\n",
      "rxn05560_c --> FRUpts2\n",
      "FRD7 --> SUCDi\n",
      "EX_lac__D_e --> D_LACt2\n",
      "rxn01332_c --> DDPA\n",
      "rxn02212_c --> DHQS\n",
      "rxn01739_c --> SHKK\n",
      "rxn02476_c --> PSCVT\n",
      "rxn01255_c --> CHORS\n",
      "rDB00086_c --> PHEt2r\n",
      "rxnvio2 --> rxnvio6\n",
      "rDB00101_c --> DF_dvio\n",
      "rDB00098_c --> rxnvio9\n",
      "rDB00099_c --> DF_vio\n"
     ]
    }
   ],
   "source": [
    "for idx in df_matching_reactions.index:\n",
    "    query_model = df_matching_reactions.loc[idx, \"bigg_id (in model)\"]\n",
    "    target_map = df_matching_reactions.loc[idx, \"bigg_id\"]\n",
    "    if not query_model == \"biomass1.12\": #except biomass\n",
    "        print(query_model, \"-->\", target_map)\n",
    "        model.reactions.get_by_id(query_model).id = target_map\n",
    "        data[1][\"reactions\"][map_nodes[target_map]][\"name\"] = df_matching_reactions.loc[idx, \"name (in model)\"]\n",
    "    else:\n",
    "        data[1][\"reactions\"][map_nodes[target_map]][\"bigg_id\"] = query_model # except for biomass\n",
    "\n",
    "with open('../results/edited_map_reaction_curated_phase2.json', 'w', encoding='utf-8') as f:\n",
    "    json.dump(data, f, ensure_ascii=False, indent=4)"
   ]
  },
  {
   "cell_type": "code",
   "execution_count": 8,
   "metadata": {
    "id": "kwy2cuHFOodd"
   },
   "outputs": [
    {
     "data": {
      "text/plain": [
       "0.2515998481207547"
      ]
     },
     "execution_count": 8,
     "metadata": {},
     "output_type": "execute_result"
    }
   ],
   "source": [
    "# simulasi model\n",
    "s = fba(model)\n",
    "flux = s.fluxes.to_frame()\n",
    "s.objective_value"
   ]
  },
  {
   "cell_type": "code",
   "execution_count": 9,
   "metadata": {},
   "outputs": [
    {
     "data": {
      "application/vnd.jupyter.widget-view+json": {
       "model_id": "235fd6eaa3ae4273b2bc0eb1df8fa426",
       "version_major": 2,
       "version_minor": 0
      },
      "text/plain": [
       "Builder(reaction_data={'rxn12008_c': 0.00233685938934557, 'rxn00541_c': 0.0, 'ACKr': 0.0, 'rxn01674_c': 0.0, '…"
      ]
     },
     "metadata": {},
     "output_type": "display_data"
    }
   ],
   "source": [
    "# map from author\n",
    "builder_scratch = Builder(\n",
    "    map_json = \"../results/edited_map_reaction_curated_phase2.json\",\n",
    "    model = model,\n",
    "    reaction_data = s.fluxes\n",
    ")\n",
    "builder_scratch"
   ]
  },
  {
   "cell_type": "code",
   "execution_count": 10,
   "metadata": {},
   "outputs": [],
   "source": [
    "cobra.io.write_sbml_model(model, \"../results/iDB858_curated_phase2.xml\")"
   ]
  }
 ],
 "metadata": {
  "colab": {
   "name": "Untitled4.ipynb",
   "provenance": []
  },
  "kernelspec": {
   "display_name": "Python 3 (ipykernel)",
   "language": "python",
   "name": "python3"
  },
  "language_info": {
   "codemirror_mode": {
    "name": "ipython",
    "version": 3
   },
   "file_extension": ".py",
   "mimetype": "text/x-python",
   "name": "python",
   "nbconvert_exporter": "python",
   "pygments_lexer": "ipython3",
   "version": "3.9.5"
  }
 },
 "nbformat": 4,
 "nbformat_minor": 4
}
