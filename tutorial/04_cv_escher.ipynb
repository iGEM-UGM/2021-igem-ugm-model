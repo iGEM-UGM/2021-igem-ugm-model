{
  "nbformat": 4,
  "nbformat_minor": 0,
  "metadata": {
    "colab": {
      "name": "Untitled4.ipynb",
      "provenance": []
    },
    "kernelspec": {
      "name": "python3",
      "display_name": "Python 3"
    },
    "language_info": {
      "name": "python"
    }
  },
  "cells": [
    {
      "cell_type": "code",
      "metadata": {
        "id": "2fGuTvNeOmQo"
      },
      "source": [
        "import escher\n",
        "from escher import Builder"
      ],
      "execution_count": null,
      "outputs": []
    },
    {
      "cell_type": "code",
      "metadata": {
        "id": "kwy2cuHFOodd"
      },
      "source": [
        "ESCHER_PATH = '../data/cv_Core metabolism_MAP.json'\n",
        "builder = escher.Builder(model_json=ESCHER_PATH)\n",
        "builder"
      ],
      "execution_count": null,
      "outputs": []
    }
  ]
}